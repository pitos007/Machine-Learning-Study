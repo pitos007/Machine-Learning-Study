{
 "cells": [
  {
   "cell_type": "markdown",
   "metadata": {},
   "source": [
    "Create DataFrame"
   ]
  },
  {
   "cell_type": "code",
   "execution_count": null,
   "metadata": {
    "collapsed": true
   },
   "outputs": [],
   "source": [
    "d = {'col1': [1, 2], 'col2': [3, 4]}\n",
    "df1 = pd.DataFrame(data=d, dtype=np.int8)\n",
    "\n",
    "il = [(1,2,3,4)]\n",
    "df2 = pd.DataFrame.from_records(items=il, columns=['A','B','C','D'])"
   ]
  },
  {
   "cell_type": "markdown",
   "metadata": {},
   "source": [
    "Delete / Filter-out"
   ]
  },
  {
   "cell_type": "code",
   "execution_count": 1,
   "metadata": {
    "collapsed": true
   },
   "outputs": [],
   "source": [
    "import pandas as pd\n",
    "import numpy as np\n",
    "import re\n",
    "import glob\n",
    "import matplotlib.pyplot as plt\n",
    "import seaborn as sn\n",
    "import datetime"
   ]
  },
  {
   "cell_type": "code",
   "execution_count": null,
   "metadata": {
    "collapsed": true
   },
   "outputs": [],
   "source": [
    "df.loc[df['column_name'] == some_value]\n",
    "df.loc[df['column_name'] != some_value]\n",
    "\n",
    "df.loc[df['column_name'].isin(['val1', 'val2'])]\n",
    "df.loc[~df['column_name'].isin(['val1', 'val2'])] # add...  isin(['val1', 'val2'].astype(int)  ...to match int"
   ]
  },
  {
   "cell_type": "code",
   "execution_count": 1,
   "metadata": {
    "collapsed": true
   },
   "outputs": [],
   "source": [
    "# removing blank rows or rows with blank cell in the first column\n",
    "m_df.iloc[:,0].fillna('_999.999', inplace=True)\n",
    "m_df = m_df.loc[~m_df.iloc[:,0].str.contains('_999.999')]\n",
    "\n",
    "# or\n",
    "m_df = m_df[pd.notnull(m_df[fst_col_name])]"
   ]
  },
  {
   "cell_type": "code",
   "execution_count": null,
   "metadata": {
    "collapsed": true
   },
   "outputs": [],
   "source": [
    "# delete / filter-out rows with specified string or strings in the first column\n",
    "m_df = m_df.loc[m_df['ColumnName'].str.contains('SearchedString')] # String\n",
    "sumCount1 = m_df[fst_col_name].str.contains('SearchedString').sum() # single string"
   ]
  },
  {
   "cell_type": "code",
   "execution_count": null,
   "metadata": {
    "collapsed": true
   },
   "outputs": [],
   "source": [
    "# delete multiple columns\n",
    "m_df.drop(labels=['ColumnName'], axis=1, inplace=True)"
   ]
  },
  {
   "cell_type": "markdown",
   "metadata": {},
   "source": [
    "Rename"
   ]
  },
  {
   "cell_type": "code",
   "execution_count": null,
   "metadata": {
    "collapsed": true
   },
   "outputs": [],
   "source": [
    "# rename string values in column\n",
    "m_df['ColumnName'].replace('OldName', 'NewName', inplace=True)\n",
    "\n",
    "# rename column name\n",
    "m_df.rename(columns={'OldName':'NewName'}, inplace=True)"
   ]
  },
  {
   "cell_type": "markdown",
   "metadata": {},
   "source": [
    "Count"
   ]
  },
  {
   "cell_type": "code",
   "execution_count": null,
   "metadata": {
    "collapsed": true
   },
   "outputs": [],
   "source": [
    "# column values count if contains specified string\n",
    "loc_auth_cp = m_df['ColumnName'].str.contains('SearchedString').sum()"
   ]
  },
  {
   "cell_type": "markdown",
   "metadata": {},
   "source": [
    "Add"
   ]
  },
  {
   "cell_type": "code",
   "execution_count": null,
   "metadata": {
    "collapsed": true
   },
   "outputs": [],
   "source": [
    "# add new columns\n",
    "\n",
    "def addNewColumn(col_names, df):\n",
    "    m_df = df\n",
    "    for i in col_names:\n",
    "        m_df[i] = m_df.iloc[:,1]\n",
    "        ecc = m_df[i]\n",
    "        m_df.drop(labels=[i], axis=1, inplace=True)\n",
    "        m_df.insert(len(m_df.columns), i, ecc)\n",
    "    return m_df\n",
    "\n",
    "sae_mod_cols = ['Sex', 'Age', 'Ethnic_Group']\n",
    "m_df = addNewColumn(sae_mod_cols, m_df)\n",
    "\n",
    "\n",
    "# add value from other column and fillin\n",
    "sae_sex_cols = ['All persons', 'Males', 'Females']\n",
    "m_df.loc[~m_df['Age'].isin(sae_age_cols), 'Age'] = np.nan\n",
    "m_df['Age'] = m_df['Age'].fillna(method='ffill')\n",
    "\n",
    "\n",
    "# add column with \"\" and nan to the last index\n",
    "m_df['NewColumn1'] = '_999.99'\n",
    "m_df['NewColumn2'] = np.nan\n",
    "\n",
    "# insert column with unique values\n",
    "ks_df = ks_df.assign(NewColumnName=pd.Series(np.random.randn(len(ks_df.iloc[:,0]))).values)\n"
   ]
  },
  {
   "cell_type": "markdown",
   "metadata": {},
   "source": [
    "Shift columns"
   ]
  },
  {
   "cell_type": "code",
   "execution_count": null,
   "metadata": {
    "collapsed": true
   },
   "outputs": [],
   "source": [
    "# get column indexes\n",
    "c1 = qt_df.columns.get_loc('ColumnNameA')\n",
    "c2 = qt_df.columns.get_loc('ColumnNameB')\n",
    "\n",
    "# insert copy of columns with new names\n",
    "#(insert_position, new_name, source_position)\n",
    "qt_df.insert(4, '_ColumnNameA', qt_df.iloc[:,c1])\n",
    "qt_df.insert(5, '_ColumnNameB', qt_df.iloc[:,c2])\n",
    "\n",
    "# drop old columns\n",
    "qt_df.drop(labels=['ColumnNameA', 'ColumnNameB'], axis=1, inplace=True)\n",
    "\n",
    "# remane new columns\n",
    "qt_df.rename(columns={'_ColumnNameA':'ColumnNameA','_ColumnNameB':'ColumnNameB'}, inplace=True)"
   ]
  },
  {
   "cell_type": "markdown",
   "metadata": {},
   "source": [
    "Concatenate"
   ]
  },
  {
   "cell_type": "code",
   "execution_count": null,
   "metadata": {
    "collapsed": true
   },
   "outputs": [],
   "source": [
    "# create a new column by concatenating two other columns\n",
    "\n",
    "df[\"ConcColumn\"] = df[\"NumColumn\"].map(str) + df[\"StrColumn\"]\n",
    "# or\n",
    "df[\"ConcColumn\"] = df[\"NumColumn\"].astype(str) +'_'+ df[\"StrColumn\"]"
   ]
  },
  {
   "cell_type": "markdown",
   "metadata": {},
   "source": [
    "Save"
   ]
  },
  {
   "cell_type": "code",
   "execution_count": null,
   "metadata": {
    "collapsed": true
   },
   "outputs": [],
   "source": [
    "# save df to file\n",
    "\n",
    "def saveDataFrame(prefix, df):\n",
    "    s = str(datetime.datetime.now())\n",
    "    s = s.replace(\"-\", \"\")\n",
    "    s = s.replace(\" \", \"\")\n",
    "    s = s.replace(\":\", \"\")\n",
    "    s = s.replace(\".\", \"\")\n",
    "    s = s[:-6]\n",
    "    df.to_csv(prefix + s + '.csv')\n",
    "    \n",
    "#saveDataFrame('fileName', dataFrame)"
   ]
  },
  {
   "cell_type": "markdown",
   "metadata": {},
   "source": [
    "Change type"
   ]
  },
  {
   "cell_type": "code",
   "execution_count": null,
   "metadata": {
    "collapsed": true
   },
   "outputs": [],
   "source": [
    "df[['col2','col3']] = df[['col2','col3']].apply(pd.to_numeric)\n",
    "\n",
    "# or\n",
    "\n",
    "df[['col4','col5']] = df[['col4','col5']].astype(float)"
   ]
  },
  {
   "cell_type": "markdown",
   "metadata": {},
   "source": [
    "Loops"
   ]
  },
  {
   "cell_type": "code",
   "execution_count": 1,
   "metadata": {},
   "outputs": [
    {
     "name": "stdout",
     "output_type": "stream",
     "text": [
      "0\n",
      "1\n",
      "2\n",
      "3\n",
      "4\n",
      "5\n",
      "6\n",
      "\n",
      "0\n",
      "1\n",
      "2\n",
      "3\n",
      "4\n",
      "5\n",
      "6\n",
      "\n",
      "five\n",
      "ten\n",
      "fifteen\n",
      "twenty\n",
      "twentyFive\n",
      "thirty\n",
      "thirtyFive\n",
      "\n",
      "five\n",
      "ten\n",
      "fifteen\n",
      "twenty\n",
      "twentyFive\n",
      "thirty\n",
      "thirtyFive\n",
      "\n",
      "five\n",
      "ten\n",
      "fifteen\n",
      "twenty\n",
      "twentyFive\n",
      "thirty\n",
      "thirtyFive\n",
      "\n",
      "5: five\n",
      "10: ten\n",
      "15: fifteen\n",
      "20: twenty\n",
      "25: twentyFive\n",
      "30: thirty\n",
      "35: thirtyFive\n"
     ]
    }
   ],
   "source": [
    "def doSth(): \n",
    "    numStr = ['five', 'ten', 'fifteen', 'twenty', 'twentyFive', 'thirty', 'thirtyFive'] \n",
    "    numInt = [5, 10, 15, 20, 25, 30, 35] \n",
    "\n",
    "    for i in range(len(numStr)): \n",
    "        print(i)  # 0,1,2,3,4,5,6 \n",
    "\n",
    "    print() \n",
    "\n",
    " \n",
    "    for i in range(0, len(numStr)): \n",
    "        print(i)  # 0,1,2,3,4,5,6 \n",
    "    print() \n",
    "\n",
    " \n",
    "    for i in range(len(numStr)): \n",
    "        print(numStr[i])  # five, ten, fifteen, twenty, twentyFive, thirty, thirtyFive \n",
    "    print() \n",
    "\n",
    " \n",
    "    for i in numStr: \n",
    "        print(i)  # five, ten, fifteen, twenty, twentyFive, thirty, thirtyFive \n",
    "    print() \n",
    "\n",
    " \n",
    "    for i in numStr[0:]: \n",
    "        print(i)  # five, ten, fifteen, twenty, twentyFive, thirty, thirtyFive\n",
    "    print() \n",
    "\n",
    "\n",
    "    for s, v in zip(numStr, numInt):  # 5: five; 10: ten ... \n",
    "           #print(i,':', v) \n",
    "            print('{0}: {1}'.format(v, s))\n",
    "\n",
    "doSth()"
   ]
  },
  {
   "cell_type": "code",
   "execution_count": null,
   "metadata": {
    "collapsed": true
   },
   "outputs": [],
   "source": [
    "# Plot the data points which in the cluster labelled 'ClusterA'\n",
    "plt.scatter(qtrspv_df['READPROG'][assignedClusters_clust.labels_==2],\n",
    "            qtrspv_df['H_MAPO'][assignedClusters_clust.labels_==2],\n",
    "            color='olivedrab', marker='o', label='clusterC')\n",
    "\n",
    "# Plot the data points which in the cluster labelled 'ClusterB'\n",
    "plt.scatter(qtrspv_df['READPROG'][assignedClusters_clust.labels_==3],\n",
    "            qtrspv_df['H_MAPO'][assignedClusters_clust.labels_==3],\n",
    "            color='darkturquoise', marker='o', label='clusterD')\n",
    "\n",
    "# Plot the data points which in the cluster labelled 'ClusterA'\n",
    "plt.scatter(qtrspv_df['READPROG'][assignedClusters_clust.labels_==4],\n",
    "            qtrspv_df['H_MAPO'][assignedClusters_clust.labels_==4],\n",
    "            color='slategray', marker='o', label='clusterE')\n",
    "\n",
    "# Plot the data points which in the cluster labelled 'ClusterB'\n",
    "plt.scatter(qtrspv_df['READPROG'][assignedClusters_clust.labels_==5],\n",
    "            qtrspv_df['H_MAPO'][assignedClusters_clust.labels_==5],\n",
    "            color='darkorchid', marker='o', label='clusterF')\n",
    "\n",
    "# Plot the data points which in the cluster labelled 'ClusterA'\n",
    "plt.scatter(qtrspv_df['READPROG'][assignedClusters_clust.labels_==6],\n",
    "            qtrspv_df['H_MAPO'][assignedClusters_clust.labels_==6],\n",
    "            color='coral', marker='o', label='clusterG')\n",
    "\n",
    "# Plot the data points which in the cluster labelled 'ClusterB'\n",
    "plt.scatter(qtrspv_df['READPROG'][assignedClusters_clust.labels_==7],\n",
    "            qtrspv_df['H_MAPO'][assignedClusters_clust.labels_==7],\n",
    "            color='tomato', marker='o', label='clusterH')"
   ]
  },
  {
   "cell_type": "code",
   "execution_count": null,
   "metadata": {
    "collapsed": true
   },
   "outputs": [],
   "source": []
  }
 ],
 "metadata": {
  "kernelspec": {
   "display_name": "Python 3",
   "language": "python",
   "name": "python3"
  },
  "language_info": {
   "codemirror_mode": {
    "name": "ipython",
    "version": 3
   },
   "file_extension": ".py",
   "mimetype": "text/x-python",
   "name": "python",
   "nbconvert_exporter": "python",
   "pygments_lexer": "ipython3",
   "version": "3.6.1"
  }
 },
 "nbformat": 4,
 "nbformat_minor": 2
}
